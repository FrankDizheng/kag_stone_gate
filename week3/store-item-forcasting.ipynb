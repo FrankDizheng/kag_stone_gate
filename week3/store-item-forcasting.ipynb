{
 "cells": [
  {
   "cell_type": "code",
   "execution_count": 1,
   "metadata": {},
   "outputs": [],
   "source": [
    "import pandas as pd\n",
    "import numpy as np"
   ]
  },
  {
   "cell_type": "code",
   "execution_count": 2,
   "metadata": {},
   "outputs": [
    {
     "name": "stdout",
     "output_type": "stream",
     "text": [
      "StoreItemDemandPred.ipynb  store-item-forcasting.ipynb\ttest.csv  train.csv\r\n"
     ]
    }
   ],
   "source": [
    "!ls "
   ]
  },
  {
   "cell_type": "code",
   "execution_count": 3,
   "metadata": {},
   "outputs": [],
   "source": [
    "df_train = pd.read_csv(\"train.csv\")\n",
    "df_test = pd.read_csv(\"test.csv\")"
   ]
  },
  {
   "cell_type": "code",
   "execution_count": 6,
   "metadata": {},
   "outputs": [],
   "source": [
    "import warnings\n",
    "warnings.filterwarnings('ignore')"
   ]
  },
  {
   "cell_type": "code",
   "execution_count": 7,
   "metadata": {},
   "outputs": [
    {
     "name": "stdout",
     "output_type": "stream",
     "text": [
      "The shape of train set is (913000, 4) and the shape of test set is (45000, 4)\n"
     ]
    }
   ],
   "source": [
    "print(\"The shape of train set is {} and the shape of test set is {}\".format(df_train.shape, df_test.shape))"
   ]
  },
  {
   "cell_type": "markdown",
   "metadata": {},
   "source": [
    "## Distribution of Sales"
   ]
  },
  {
   "cell_type": "code",
   "execution_count": 12,
   "metadata": {},
   "outputs": [
    {
     "name": "stdout",
     "output_type": "stream",
     "text": [
      "Max sale: 231\n",
      "Min sale 0\n",
      "Avg sale 52.250286966046005\n",
      "\n",
      "Sales bucket v/s Total percentage:\n"
     ]
    },
    {
     "data": {
      "text/plain": [
       "(0, 50]       54.591407\n",
       "(50, 100]     38.388322\n",
       "(100, 150]     6.709974\n",
       "(150, 200]     0.308544\n",
       "(200, 250]     0.001752\n",
       "Name: sales_bins, dtype: float64"
      ]
     },
     "metadata": {},
     "output_type": "display_data"
    }
   ],
   "source": [
    "def sales_dist(data):\n",
    "    sales_df = data.copy(deep=True)\n",
    "    sales_df['sales_bins'] = pd.cut(sales_df.sales, [0, 50, 100, 150, 200, 250])\n",
    "    print(\"Max sale:\", sales_df.sales.max())\n",
    "    print(\"Min sale\", sales_df.sales.min())\n",
    "    print(\"Avg sale\", sales_df.sales.mean())\n",
    "    print()\n",
    "    return sales_df\n",
    "\n",
    "sales_df = sales_dist(df_train)\n",
    "\n",
    "total_points = pd.value_counts(sales_df.sales_bins).sum()\n",
    "print(\"Sales bucket v/s Total percentage:\")\n",
    "display(pd.value_counts(sales_df.sales_bins).apply(lambda s: (s/total_points) * 100))"
   ]
  },
  {
   "cell_type": "code",
   "execution_count": 22,
   "metadata": {},
   "outputs": [],
   "source": [
    "import seaborn as sns"
   ]
  },
  {
   "cell_type": "code",
   "execution_count": 60,
   "metadata": {},
   "outputs": [
    {
     "data": {
      "text/plain": [
       "<matplotlib.axes._subplots.AxesSubplot at 0x7f9af8625b00>"
      ]
     },
     "execution_count": 60,
     "metadata": {},
     "output_type": "execute_result"
    },
    {
     "data": {
      "image/png": "[encoded data removed]",
      "text/plain": [
       "<Figure size 432x288 with 1 Axes>"
      ]
     },
     "metadata": {},
     "output_type": "display_data"
    }
   ],
   "source": [
    "sales_count = pd.value_counts(sales_df.sales_bins)\n",
    "# sales_count.sort_values(ascending=True).plot(kind='barh', title=\"Sales distribution\", )\n",
    "sns.countplot(y = sales_df.sales_bins, facecolor=(1, 0, 0, 0), linewidth=5, edgecolor=sns.color_palette(\"dark\", 3))"
   ]
  },
  {
   "cell_type": "code",
   "execution_count": 65,
   "metadata": {},
   "outputs": [],
   "source": [
    "from scipy.stats import norm"
   ]
  },
  {
   "cell_type": "code",
   "execution_count": 66,
   "metadata": {},
   "outputs": [
    {
     "data": {
      "text/plain": [
       "<matplotlib.axes._subplots.AxesSubplot at 0x7f9af76f7e80>"
      ]
     },
     "execution_count": 66,
     "metadata": {},
     "output_type": "execute_result"
    },
    {
     "data": {
      "image/png": "[encoded data removed]",
      "text/plain": [
       "<Figure size 432x288 with 1 Axes>"
      ]
     },
     "metadata": {},
     "output_type": "display_data"
    }
   ],
   "source": [
    "sns.distplot(df_train.sales, fit=norm)"
   ]
  },
  {
   "cell_type": "markdown",
   "metadata": {},
   "source": [
    "## Let us understand the sales data distribution across the stores"
   ]
  },
  {
   "cell_type": "code",
   "execution_count": 70,
   "metadata": {},
   "outputs": [],
   "source": [
    "from matplotlib import pyplot as plt"
   ]
  },
  {
   "cell_type": "code",
   "execution_count": 72,
   "metadata": {},
   "outputs": [
    {
     "data": {
      "text/html": [
       "<div>\n",
       "<style scoped>\n",
       "    .dataframe tbody tr th:only-of-type {\n",
       "        vertical-align: middle;\n",
       "    }\n",
       "\n",
       "    .dataframe tbody tr th {\n",
       "        vertical-align: top;\n",
       "    }\n",
       "\n",
       "    .dataframe thead tr th {\n",
       "        text-align: left;\n",
       "    }\n",
       "\n",
       "    .dataframe thead tr:last-of-type th {\n",
       "        text-align: right;\n",
       "    }\n",
       "</style>\n",
       "<table border=\"1\" class=\"dataframe\">\n",
       "  <thead>\n",
       "    <tr>\n",
       "      <th></th>\n",
       "      <th colspan=\"21\" halign=\"left\">sales</th>\n",
       "    </tr>\n",
       "    <tr>\n",
       "      <th>item</th>\n",
       "      <th>1</th>\n",
       "      <th>2</th>\n",
       "      <th>3</th>\n",
       "      <th>4</th>\n",
       "      <th>5</th>\n",
       "      <th>6</th>\n",
       "      <th>7</th>\n",
       "      <th>8</th>\n",
       "      <th>9</th>\n",
       "      <th>10</th>\n",
       "      <th>...</th>\n",
       "      <th>41</th>\n",
       "      <th>42</th>\n",
       "      <th>43</th>\n",
       "      <th>44</th>\n",
       "      <th>45</th>\n",
       "      <th>46</th>\n",
       "      <th>47</th>\n",
       "      <th>48</th>\n",
       "      <th>49</th>\n",
       "      <th>50</th>\n",
       "    </tr>\n",
       "    <tr>\n",
       "      <th>store</th>\n",
       "      <th></th>\n",
       "      <th></th>\n",
       "      <th></th>\n",
       "      <th></th>\n",
       "      <th></th>\n",
       "      <th></th>\n",
       "      <th></th>\n",
       "      <th></th>\n",
       "      <th></th>\n",
       "      <th></th>\n",
       "      <th></th>\n",
       "      <th></th>\n",
       "      <th></th>\n",
       "      <th></th>\n",
       "      <th></th>\n",
       "      <th></th>\n",
       "      <th></th>\n",
       "      <th></th>\n",
       "      <th></th>\n",
       "      <th></th>\n",
       "      <th></th>\n",
       "    </tr>\n",
       "  </thead>\n",
       "  <tbody>\n",
       "    <tr>\n",
       "      <th>1</th>\n",
       "      <td>19.971522</td>\n",
       "      <td>53.148959</td>\n",
       "      <td>33.208105</td>\n",
       "      <td>19.956188</td>\n",
       "      <td>16.612815</td>\n",
       "      <td>53.060789</td>\n",
       "      <td>52.783680</td>\n",
       "      <td>69.472070</td>\n",
       "      <td>46.504929</td>\n",
       "      <td>66.354326</td>\n",
       "      <td>...</td>\n",
       "      <td>20.002738</td>\n",
       "      <td>33.105696</td>\n",
       "      <td>46.242607</td>\n",
       "      <td>26.594195</td>\n",
       "      <td>72.720701</td>\n",
       "      <td>52.845016</td>\n",
       "      <td>19.814348</td>\n",
       "      <td>46.546002</td>\n",
       "      <td>26.461665</td>\n",
       "      <td>59.342826</td>\n",
       "    </tr>\n",
       "    <tr>\n",
       "      <th>2</th>\n",
       "      <td>28.173604</td>\n",
       "      <td>75.316539</td>\n",
       "      <td>46.992333</td>\n",
       "      <td>28.234940</td>\n",
       "      <td>23.540526</td>\n",
       "      <td>74.945235</td>\n",
       "      <td>75.058598</td>\n",
       "      <td>99.090361</td>\n",
       "      <td>65.478094</td>\n",
       "      <td>94.097481</td>\n",
       "      <td>...</td>\n",
       "      <td>28.069551</td>\n",
       "      <td>47.368018</td>\n",
       "      <td>65.785323</td>\n",
       "      <td>37.785871</td>\n",
       "      <td>103.381161</td>\n",
       "      <td>75.219606</td>\n",
       "      <td>28.187842</td>\n",
       "      <td>66.028478</td>\n",
       "      <td>37.711939</td>\n",
       "      <td>84.622125</td>\n",
       "    </tr>\n",
       "    <tr>\n",
       "      <th>3</th>\n",
       "      <td>25.070099</td>\n",
       "      <td>66.804491</td>\n",
       "      <td>41.771084</td>\n",
       "      <td>25.116101</td>\n",
       "      <td>20.857612</td>\n",
       "      <td>67.007119</td>\n",
       "      <td>66.647864</td>\n",
       "      <td>87.517525</td>\n",
       "      <td>58.486857</td>\n",
       "      <td>83.387733</td>\n",
       "      <td>...</td>\n",
       "      <td>24.989047</td>\n",
       "      <td>41.797371</td>\n",
       "      <td>58.197700</td>\n",
       "      <td>33.386090</td>\n",
       "      <td>91.851041</td>\n",
       "      <td>66.748083</td>\n",
       "      <td>25.120482</td>\n",
       "      <td>58.700986</td>\n",
       "      <td>33.259584</td>\n",
       "      <td>74.958379</td>\n",
       "    </tr>\n",
       "    <tr>\n",
       "      <th>4</th>\n",
       "      <td>22.938664</td>\n",
       "      <td>61.715225</td>\n",
       "      <td>38.548193</td>\n",
       "      <td>23.086528</td>\n",
       "      <td>19.525192</td>\n",
       "      <td>61.270537</td>\n",
       "      <td>61.625411</td>\n",
       "      <td>80.819825</td>\n",
       "      <td>54.043812</td>\n",
       "      <td>77.047645</td>\n",
       "      <td>...</td>\n",
       "      <td>23.168127</td>\n",
       "      <td>38.539978</td>\n",
       "      <td>54.018620</td>\n",
       "      <td>30.952355</td>\n",
       "      <td>84.687295</td>\n",
       "      <td>61.420044</td>\n",
       "      <td>23.114458</td>\n",
       "      <td>53.765608</td>\n",
       "      <td>30.840635</td>\n",
       "      <td>68.921687</td>\n",
       "    </tr>\n",
       "    <tr>\n",
       "      <th>5</th>\n",
       "      <td>16.739321</td>\n",
       "      <td>44.488499</td>\n",
       "      <td>27.835706</td>\n",
       "      <td>16.776561</td>\n",
       "      <td>14.086528</td>\n",
       "      <td>44.564622</td>\n",
       "      <td>44.535597</td>\n",
       "      <td>58.565717</td>\n",
       "      <td>38.837349</td>\n",
       "      <td>55.509858</td>\n",
       "      <td>...</td>\n",
       "      <td>16.830778</td>\n",
       "      <td>27.730559</td>\n",
       "      <td>39.163198</td>\n",
       "      <td>22.415115</td>\n",
       "      <td>61.427163</td>\n",
       "      <td>44.734940</td>\n",
       "      <td>16.699343</td>\n",
       "      <td>39.281490</td>\n",
       "      <td>22.371851</td>\n",
       "      <td>50.319277</td>\n",
       "    </tr>\n",
       "    <tr>\n",
       "      <th>6</th>\n",
       "      <td>16.717963</td>\n",
       "      <td>44.533954</td>\n",
       "      <td>27.811062</td>\n",
       "      <td>16.754107</td>\n",
       "      <td>13.893209</td>\n",
       "      <td>44.503834</td>\n",
       "      <td>44.599124</td>\n",
       "      <td>58.385542</td>\n",
       "      <td>39.460022</td>\n",
       "      <td>55.565170</td>\n",
       "      <td>...</td>\n",
       "      <td>16.607338</td>\n",
       "      <td>27.893209</td>\n",
       "      <td>39.034502</td>\n",
       "      <td>22.322563</td>\n",
       "      <td>61.142935</td>\n",
       "      <td>44.539978</td>\n",
       "      <td>16.708653</td>\n",
       "      <td>39.052574</td>\n",
       "      <td>22.181271</td>\n",
       "      <td>50.516429</td>\n",
       "    </tr>\n",
       "    <tr>\n",
       "      <th>7</th>\n",
       "      <td>15.159365</td>\n",
       "      <td>40.717963</td>\n",
       "      <td>25.531216</td>\n",
       "      <td>15.358160</td>\n",
       "      <td>12.733844</td>\n",
       "      <td>40.703724</td>\n",
       "      <td>40.709748</td>\n",
       "      <td>53.723987</td>\n",
       "      <td>35.901972</td>\n",
       "      <td>51.156627</td>\n",
       "      <td>...</td>\n",
       "      <td>15.471522</td>\n",
       "      <td>25.435926</td>\n",
       "      <td>35.426068</td>\n",
       "      <td>20.446331</td>\n",
       "      <td>55.905805</td>\n",
       "      <td>40.828587</td>\n",
       "      <td>15.479189</td>\n",
       "      <td>35.624315</td>\n",
       "      <td>20.406353</td>\n",
       "      <td>45.823658</td>\n",
       "    </tr>\n",
       "    <tr>\n",
       "      <th>8</th>\n",
       "      <td>26.983571</td>\n",
       "      <td>71.656627</td>\n",
       "      <td>45.076123</td>\n",
       "      <td>26.948521</td>\n",
       "      <td>22.427711</td>\n",
       "      <td>71.958379</td>\n",
       "      <td>71.730559</td>\n",
       "      <td>94.461117</td>\n",
       "      <td>63.193319</td>\n",
       "      <td>89.818182</td>\n",
       "      <td>...</td>\n",
       "      <td>27.036145</td>\n",
       "      <td>45.144031</td>\n",
       "      <td>62.980285</td>\n",
       "      <td>36.194414</td>\n",
       "      <td>98.941402</td>\n",
       "      <td>72.004929</td>\n",
       "      <td>27.150055</td>\n",
       "      <td>62.737130</td>\n",
       "      <td>36.035049</td>\n",
       "      <td>80.972070</td>\n",
       "    </tr>\n",
       "    <tr>\n",
       "      <th>9</th>\n",
       "      <td>23.325849</td>\n",
       "      <td>61.792442</td>\n",
       "      <td>38.535049</td>\n",
       "      <td>23.150055</td>\n",
       "      <td>19.272180</td>\n",
       "      <td>61.412377</td>\n",
       "      <td>61.812158</td>\n",
       "      <td>81.287514</td>\n",
       "      <td>54.105696</td>\n",
       "      <td>77.105148</td>\n",
       "      <td>...</td>\n",
       "      <td>23.191128</td>\n",
       "      <td>38.643483</td>\n",
       "      <td>54.152793</td>\n",
       "      <td>30.968237</td>\n",
       "      <td>85.093647</td>\n",
       "      <td>62.010953</td>\n",
       "      <td>23.003286</td>\n",
       "      <td>53.976999</td>\n",
       "      <td>31.052574</td>\n",
       "      <td>69.308324</td>\n",
       "    </tr>\n",
       "    <tr>\n",
       "      <th>10</th>\n",
       "      <td>24.736035</td>\n",
       "      <td>65.566813</td>\n",
       "      <td>41.113363</td>\n",
       "      <td>24.721249</td>\n",
       "      <td>20.637459</td>\n",
       "      <td>65.612267</td>\n",
       "      <td>65.807777</td>\n",
       "      <td>86.176889</td>\n",
       "      <td>57.886637</td>\n",
       "      <td>82.232202</td>\n",
       "      <td>...</td>\n",
       "      <td>24.654984</td>\n",
       "      <td>41.222892</td>\n",
       "      <td>57.942497</td>\n",
       "      <td>32.916758</td>\n",
       "      <td>90.690581</td>\n",
       "      <td>66.046550</td>\n",
       "      <td>24.755750</td>\n",
       "      <td>57.814896</td>\n",
       "      <td>33.032311</td>\n",
       "      <td>74.037240</td>\n",
       "    </tr>\n",
       "  </tbody>\n",
       "</table>\n",
       "<p>10 rows × 50 columns</p>\n",
       "</div>"
      ],
      "text/plain": [
       "           sales                                                         \\\n",
       "item          1          2          3          4          5          6    \n",
       "store                                                                     \n",
       "1      19.971522  53.148959  33.208105  19.956188  16.612815  53.060789   \n",
       "2      28.173604  75.316539  46.992333  28.234940  23.540526  74.945235   \n",
       "3      25.070099  66.804491  41.771084  25.116101  20.857612  67.007119   \n",
       "4      22.938664  61.715225  38.548193  23.086528  19.525192  61.270537   \n",
       "5      16.739321  44.488499  27.835706  16.776561  14.086528  44.564622   \n",
       "6      16.717963  44.533954  27.811062  16.754107  13.893209  44.503834   \n",
       "7      15.159365  40.717963  25.531216  15.358160  12.733844  40.703724   \n",
       "8      26.983571  71.656627  45.076123  26.948521  22.427711  71.958379   \n",
       "9      23.325849  61.792442  38.535049  23.150055  19.272180  61.412377   \n",
       "10     24.736035  65.566813  41.113363  24.721249  20.637459  65.612267   \n",
       "\n",
       "                                                     ...                 \\\n",
       "item          7          8          9          10    ...             41   \n",
       "store                                                ...                  \n",
       "1      52.783680  69.472070  46.504929  66.354326    ...      20.002738   \n",
       "2      75.058598  99.090361  65.478094  94.097481    ...      28.069551   \n",
       "3      66.647864  87.517525  58.486857  83.387733    ...      24.989047   \n",
       "4      61.625411  80.819825  54.043812  77.047645    ...      23.168127   \n",
       "5      44.535597  58.565717  38.837349  55.509858    ...      16.830778   \n",
       "6      44.599124  58.385542  39.460022  55.565170    ...      16.607338   \n",
       "7      40.709748  53.723987  35.901972  51.156627    ...      15.471522   \n",
       "8      71.730559  94.461117  63.193319  89.818182    ...      27.036145   \n",
       "9      61.812158  81.287514  54.105696  77.105148    ...      23.191128   \n",
       "10     65.807777  86.176889  57.886637  82.232202    ...      24.654984   \n",
       "\n",
       "                                                                          \\\n",
       "item          42         43         44          45         46         47   \n",
       "store                                                                      \n",
       "1      33.105696  46.242607  26.594195   72.720701  52.845016  19.814348   \n",
       "2      47.368018  65.785323  37.785871  103.381161  75.219606  28.187842   \n",
       "3      41.797371  58.197700  33.386090   91.851041  66.748083  25.120482   \n",
       "4      38.539978  54.018620  30.952355   84.687295  61.420044  23.114458   \n",
       "5      27.730559  39.163198  22.415115   61.427163  44.734940  16.699343   \n",
       "6      27.893209  39.034502  22.322563   61.142935  44.539978  16.708653   \n",
       "7      25.435926  35.426068  20.446331   55.905805  40.828587  15.479189   \n",
       "8      45.144031  62.980285  36.194414   98.941402  72.004929  27.150055   \n",
       "9      38.643483  54.152793  30.968237   85.093647  62.010953  23.003286   \n",
       "10     41.222892  57.942497  32.916758   90.690581  66.046550  24.755750   \n",
       "\n",
       "                                        \n",
       "item          48         49         50  \n",
       "store                                   \n",
       "1      46.546002  26.461665  59.342826  \n",
       "2      66.028478  37.711939  84.622125  \n",
       "3      58.700986  33.259584  74.958379  \n",
       "4      53.765608  30.840635  68.921687  \n",
       "5      39.281490  22.371851  50.319277  \n",
       "6      39.052574  22.181271  50.516429  \n",
       "7      35.624315  20.406353  45.823658  \n",
       "8      62.737130  36.035049  80.972070  \n",
       "9      53.976999  31.052574  69.308324  \n",
       "10     57.814896  33.032311  74.037240  \n",
       "\n",
       "[10 rows x 50 columns]"
      ]
     },
     "metadata": {},
     "output_type": "display_data"
    },
    {
     "data": {
      "text/plain": [
       "<Figure size 1440x720 with 0 Axes>"
      ]
     },
     "metadata": {},
     "output_type": "display_data"
    },
    {
     "data": {
      "image/png": "[encoded data removed]",
      "text/plain": [
       "<Figure size 1440x720 with 1 Axes>"
      ]
     },
     "metadata": {},
     "output_type": "display_data"
    }
   ],
   "source": [
    "def sales_data_understanding(data):\n",
    "    store_df = data.copy()\n",
    "    plt.figure(figsize=(20, 10))\n",
    "    sales_pivoted_df = pd.pivot_table(store_df, index='store', values=['sales', 'date'],\n",
    "                                      columns='item', aggfunc=np.mean)\n",
    "    sales_pivoted_df.plot(kind='hist', figsize=(20, 10))\n",
    "    display(sales_pivoted_df)\n",
    "    return (store_df, sales_pivoted_df)\n",
    "\n",
    "store_df, sales_pivoted_df = sales_data_understanding(df_train)"
   ]
  },
  {
   "cell_type": "markdown",
   "metadata": {},
   "source": [
    "## Let's use this dataframe and produce some interesting visualizations"
   ]
  },
  {
   "cell_type": "code",
   "execution_count": 94,
   "metadata": {},
   "outputs": [],
   "source": [
    "sales_across_store_df = sales_pivoted_df.copy()\n",
    "sales_across_store_df['avg_sale'] = sales_across_store_df.apply(lambda row: row.mean(), axis=1)"
   ]
  },
  {
   "cell_type": "code",
   "execution_count": 98,
   "metadata": {},
   "outputs": [
    {
     "data": {
      "text/html": [
       "<script>requirejs.config({paths: { 'plotly': ['https://cdn.plot.ly/plotly-latest.min']},});if(!window.Plotly) {{require(['plotly'],function(plotly) {window.Plotly=plotly;});}}</script>"
      ],
      "text/vnd.plotly.v1+html": [
       "<script>requirejs.config({paths: { 'plotly': ['https://cdn.plot.ly/plotly-latest.min']},});if(!window.Plotly) {{require(['plotly'],function(plotly) {window.Plotly=plotly;});}}</script>"
      ]
     },
     "metadata": {},
     "output_type": "display_data"
    }
   ],
   "source": [
    "import plotly.offline as py\n",
    "py.init_notebook_mode(connected=True)\n",
    "import plotly.graph_objs as go"
   ]
  },
  {
   "cell_type": "code",
   "execution_count": 105,
   "metadata": {},
   "outputs": [
    {
     "data": {
      "application/vnd.plotly.v1+json": {
       "data": [
        {
         "marker": {
          "color": [
           47.26837897042716,
           67.03316538882802,
           59.53060240963856,
           54.90294633077766,
           39.77016429353779,
           39.73351588170865,
           36.36373493975904,
           64.14204819277109,
           55.049025191675774,
           58.70928806133627
          ],
          "colorscale": "Viridis",
          "showscale": true,
          "size": [
           47.26837897042716,
           67.03316538882802,
           59.53060240963856,
           54.90294633077766,
           39.77016429353779,
           39.73351588170865,
           36.36373493975904,
           64.14204819277109,
           55.049025191675774,
           58.70928806133627
          ]
         },
         "mode": "markers",
         "text": [
          1,
          2,
          3,
          4,
          5,
          6,
          7,
          8,
          9,
          10
         ],
         "type": "scatter",
         "uid": "d2bab7ca-d693-11e8-b6f6-e4a471b73635",
         "y": [
          47.26837897042716,
          67.03316538882802,
          59.53060240963856,
          54.90294633077766,
          39.77016429353779,
          39.73351588170865,
          36.36373493975904,
          64.14204819277109,
          55.049025191675774,
          58.70928806133627
         ]
        }
       ],
       "layout": {
        "autosize": true,
        "hovermode": "closest",
        "showlegend": false,
        "title": "Scatter plot of avg sales per store",
        "xaxis": {
         "gridwidth": 1,
         "ticklen": 10,
         "title": "Stores",
         "zeroline": false
        },
        "yaxis": {
         "gridwidth": 1,
         "ticklen": 10,
         "title": "Avg Sales",
         "zeroline": false
        }
       }
      },
      "text/html": [
       "<div id=\"3722c8b6-1c74-4b9b-964f-fed038cefcd1\" style=\"height: 525px; width: 100%;\" class=\"plotly-graph-div\"></div><script type=\"text/javascript\">require([\"plotly\"], function(Plotly) { window.PLOTLYENV=window.PLOTLYENV || {};window.PLOTLYENV.BASE_URL=\"https://plot.ly\";Plotly.newPlot(\"3722c8b6-1c74-4b9b-964f-fed038cefcd1\", [{\"marker\": {\"color\": [47.26837897042716, 67.03316538882802, 59.53060240963856, 54.90294633077766, 39.77016429353779, 39.73351588170865, 36.36373493975904, 64.14204819277109, 55.049025191675774, 58.70928806133627], \"colorscale\": \"Viridis\", \"showscale\": true, \"size\": [47.26837897042716, 67.03316538882802, 59.53060240963856, 54.90294633077766, 39.77016429353779, 39.73351588170865, 36.36373493975904, 64.14204819277109, 55.049025191675774, 58.70928806133627]}, \"mode\": \"markers\", \"text\": [1.0, 2.0, 3.0, 4.0, 5.0, 6.0, 7.0, 8.0, 9.0, 10.0], \"y\": [47.26837897042716, 67.03316538882802, 59.53060240963856, 54.90294633077766, 39.77016429353779, 39.73351588170865, 36.36373493975904, 64.14204819277109, 55.049025191675774, 58.70928806133627], \"type\": \"scatter\", \"uid\": \"d2bab7ca-d693-11e8-b6f6-e4a471b73635\"}], {\"autosize\": true, \"hovermode\": \"closest\", \"showlegend\": false, \"title\": \"Scatter plot of avg sales per store\", \"xaxis\": {\"gridwidth\": 1, \"ticklen\": 10, \"title\": \"Stores\", \"zeroline\": false}, \"yaxis\": {\"gridwidth\": 1, \"ticklen\": 10, \"title\": \"Avg Sales\", \"zeroline\": false}}, {\"showLink\": true, \"linkText\": \"Export to plot.ly\"})});</script>"
      ],
      "text/vnd.plotly.v1+html": [
       "<div id=\"3722c8b6-1c74-4b9b-964f-fed038cefcd1\" style=\"height: 525px; width: 100%;\" class=\"plotly-graph-div\"></div><script type=\"text/javascript\">require([\"plotly\"], function(Plotly) { window.PLOTLYENV=window.PLOTLYENV || {};window.PLOTLYENV.BASE_URL=\"https://plot.ly\";Plotly.newPlot(\"3722c8b6-1c74-4b9b-964f-fed038cefcd1\", [{\"marker\": {\"color\": [47.26837897042716, 67.03316538882802, 59.53060240963856, 54.90294633077766, 39.77016429353779, 39.73351588170865, 36.36373493975904, 64.14204819277109, 55.049025191675774, 58.70928806133627], \"colorscale\": \"Viridis\", \"showscale\": true, \"size\": [47.26837897042716, 67.03316538882802, 59.53060240963856, 54.90294633077766, 39.77016429353779, 39.73351588170865, 36.36373493975904, 64.14204819277109, 55.049025191675774, 58.70928806133627]}, \"mode\": \"markers\", \"text\": [1.0, 2.0, 3.0, 4.0, 5.0, 6.0, 7.0, 8.0, 9.0, 10.0], \"y\": [47.26837897042716, 67.03316538882802, 59.53060240963856, 54.90294633077766, 39.77016429353779, 39.73351588170865, 36.36373493975904, 64.14204819277109, 55.049025191675774, 58.70928806133627], \"type\": \"scatter\", \"uid\": \"d2bab7ca-d693-11e8-b6f6-e4a471b73635\"}], {\"autosize\": true, \"hovermode\": \"closest\", \"showlegend\": false, \"title\": \"Scatter plot of avg sales per store\", \"xaxis\": {\"gridwidth\": 1, \"ticklen\": 10, \"title\": \"Stores\", \"zeroline\": false}, \"yaxis\": {\"gridwidth\": 1, \"ticklen\": 10, \"title\": \"Avg Sales\", \"zeroline\": false}}, {\"showLink\": true, \"linkText\": \"Export to plot.ly\"})});</script>"
      ]
     },
     "metadata": {},
     "output_type": "display_data"
    }
   ],
   "source": [
    "sales_store_data = go.Scatter(\n",
    "    y = sales_across_store_df.avg_sale.values,\n",
    "    mode = 'markers',\n",
    "    marker = dict(\n",
    "        size = sales_across_store_df.avg_sale.values,\n",
    "        color = sales_across_store_df.avg_sale.values,\n",
    "        colorscale = 'Viridis',\n",
    "        showscale=True\n",
    "    ),\n",
    "    text = sales_across_store_df.index.values\n",
    ")\n",
    "data = [sales_store_data]\n",
    "\n",
    "sales_store_layout = go.Layout(\n",
    "    autosize = True,\n",
    "    title = 'Scatter plot of avg sales per store',\n",
    "    hovermode = 'closest',\n",
    "    xaxis = dict(\n",
    "        title = 'Stores',\n",
    "        ticklen = 10,\n",
    "        zeroline = False,\n",
    "        gridwidth = 1,\n",
    "    ),\n",
    "    yaxis = dict(\n",
    "        title = 'Avg Sales',\n",
    "        ticklen = 10,\n",
    "        zeroline = False,\n",
    "        gridwidth = 1,\n",
    "    ),\n",
    "    showlegend = False\n",
    ")\n",
    "\n",
    "fig = go.Figure(data = data, layout=sales_store_layout)\n",
    "py.iplot(fig, filename = 'sactter_sales_store')"
   ]
  },
  {
   "cell_type": "code",
   "execution_count": null,
   "metadata": {},
   "outputs": [],
   "source": []
  }
 ],
 "metadata": {
  "kernelspec": {
   "display_name": "Python 3",
   "language": "python",
   "name": "python3"
  },
  "language_info": {
   "codemirror_mode": {
    "name": "ipython",
    "version": 3
   },
   "file_extension": ".py",
   "mimetype": "text/x-python",
   "name": "python",
   "nbconvert_exporter": "python",
   "pygments_lexer": "ipython3",
   "version": "3.6.5"
  }
 },
 "nbformat": 4,
 "nbformat_minor": 2
}
